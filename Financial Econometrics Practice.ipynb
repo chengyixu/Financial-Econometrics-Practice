{
 "cells": [
  {
   "attachments": {},
   "cell_type": "markdown",
   "metadata": {},
   "source": [
    "# Q2, a. iii"
   ]
  },
  {
   "cell_type": "code",
   "execution_count": 1,
   "metadata": {},
   "outputs": [
    {
     "name": "stdout",
     "output_type": "stream",
     "text": [
      "                            OLS Regression Results                            \n",
      "==============================================================================\n",
      "Dep. Variable:                      y   R-squared:                       0.201\n",
      "Model:                            OLS   Adj. R-squared:                  0.196\n",
      "Method:                 Least Squares   F-statistic:                     41.80\n",
      "Date:                Sun, 12 Mar 2023   Prob (F-statistic):           6.46e-17\n",
      "Time:                        17:38:36   Log-Likelihood:                 67.229\n",
      "No. Observations:                 335   AIC:                            -128.5\n",
      "Df Residuals:                     332   BIC:                            -117.0\n",
      "Df Model:                           2                                         \n",
      "Covariance Type:            nonrobust                                         \n",
      "==============================================================================\n",
      "                 coef    std err          t      P>|t|      [0.025      0.975]\n",
      "------------------------------------------------------------------------------\n",
      "const          3.4477      1.230      2.803      0.005       1.028       5.867\n",
      "k              0.6802      0.082      8.338      0.000       0.520       0.841\n",
      "h              0.1736      0.353      0.492      0.623      -0.520       0.868\n",
      "==============================================================================\n",
      "Omnibus:                        5.002   Durbin-Watson:                   1.965\n",
      "Prob(Omnibus):                  0.082   Jarque-Bera (JB):                5.701\n",
      "Skew:                          -0.153   Prob(JB):                       0.0578\n",
      "Kurtosis:                       3.561   Cond. No.                         536.\n",
      "==============================================================================\n",
      "\n",
      "Notes:\n",
      "[1] Standard Errors assume that the covariance matrix of the errors is correctly specified.\n",
      "RSSU = 13.129789926168769\n"
     ]
    }
   ],
   "source": [
    "import numpy as np\n",
    "import pandas as pd\n",
    "import statsmodels.api as sm\n",
    "\n",
    "# load data\n",
    "data = pd.read_excel('dataQ2.xlsx')\n",
    "\n",
    "import numpy as np\n",
    "import pandas as pd\n",
    "import statsmodels.api as sm\n",
    "\n",
    "# Compute the logarithms of the variables\n",
    "data['y'] = np.log(data['Y'])\n",
    "data['k'] = np.log(data['K'])\n",
    "data['h'] = np.log(data['H'])\n",
    "\n",
    "# Estimate the linear regression model using OLS\n",
    "X = sm.add_constant(data[['k', 'h']])\n",
    "model = sm.OLS(data['y'], X).fit()\n",
    "\n",
    "# Print the estimated parameters and their standard errors\n",
    "print(model.summary())\n",
    "\n",
    "# Compute the residual sum of squares\n",
    "rssu = ((model.resid)**2).sum()\n",
    "print('RSSU =', rssu)"
   ]
  },
  {
   "attachments": {},
   "cell_type": "markdown",
   "metadata": {},
   "source": [
    "# Q2, b, ii"
   ]
  },
  {
   "cell_type": "code",
   "execution_count": 2,
   "metadata": {},
   "outputs": [
    {
     "name": "stdout",
     "output_type": "stream",
     "text": [
      "RSSR: 13.139365467029997\n"
     ]
    }
   ],
   "source": [
    "import statsmodels.api as sm\n",
    "\n",
    "# create a new variable for (1-β_1)*h_t\n",
    "data['h_restricted'] = (1 - data['k'])\n",
    "\n",
    "# estimate the restricted model\n",
    "restricted_model = sm.OLS(data['y'], sm.add_constant(data[['k', 'h_restricted']])).fit()\n",
    "\n",
    "# compute RSSR\n",
    "RSSR = restricted_model.ssr\n",
    "print(\"RSSR:\", RSSR)\n"
   ]
  },
  {
   "attachments": {},
   "cell_type": "markdown",
   "metadata": {},
   "source": [
    "# Q2, b, iii"
   ]
  },
  {
   "cell_type": "code",
   "execution_count": 3,
   "metadata": {},
   "outputs": [
    {
     "name": "stdout",
     "output_type": "stream",
     "text": [
      "F-statistic: 0.24212722243118398\n"
     ]
    }
   ],
   "source": [
    "# estimate the unrestricted model\n",
    "unrestricted_model = sm.OLS(data['y'], sm.add_constant(data[['k', 'h']])).fit()\n",
    "\n",
    "# compute RSSU\n",
    "RSSU = unrestricted_model.ssr\n",
    "\n",
    "# compute the F-statistic\n",
    "m = 1\n",
    "T = len(data)\n",
    "k = 3\n",
    "F_statistic = ((RSSR - RSSU)/m) / (RSSU/(T - k))\n",
    "print(\"F-statistic:\", F_statistic)\n"
   ]
  },
  {
   "attachments": {},
   "cell_type": "markdown",
   "metadata": {},
   "source": [
    "Using a significance level of 5%, the critical value for the F_(1,∞) distribution is 3.84. Since our calculated F-statistic is much smaller than the critical value, we failed to reject the null hypothesis at the 5% significance level. Using a significance level of 1%, the critical value for the F_(1,∞) distribution is 6.63. Since our calculated F-statistic is still much smaller than the critical value, we also failed to reject the null hypothesis at the 1% significance level. Therefore, we conclude that there is no strong evidence to suggest that β_1 + β_2 ≠ 1."
   ]
  },
  {
   "attachments": {},
   "cell_type": "markdown",
   "metadata": {},
   "source": [
    "# Q3"
   ]
  },
  {
   "attachments": {},
   "cell_type": "markdown",
   "metadata": {},
   "source": [
    "### a"
   ]
  },
  {
   "cell_type": "code",
   "execution_count": 4,
   "metadata": {},
   "outputs": [],
   "source": [
    "import pandas as pd\n",
    "\n",
    "gdp = pd.read_excel('fredgraph.xls')\n",
    "gdppot = pd.read_excel('GDPPOT.xls')\n",
    "cpi = pd.read_excel('CORESTICKM159SFRBATL.xls')\n",
    "\n",
    "# Merge the data into a single DataFrame\n",
    "data = pd.merge(gdp, gdppot, on='DATE', suffixes=('_gdp', '_gdppot'))\n",
    "data = pd.merge(data, cpi, on='DATE')\n",
    "data.columns = ['date', 'gdp', 'gdppot', 'cpi']\n",
    "data = data.set_index('date')\n",
    "\n",
    "# Compute the output gap\n",
    "data['output_gap'] = 100 * (data['gdp'].apply(np.log) - data['gdppot'].apply(np.log))\n",
    "\n",
    "# Compute the inflation rate\n",
    "data['inflation'] = 100 * data['cpi'].pct_change()\n",
    "\n",
    "# Compute the first lag of the inflation rate\n",
    "data['inflation_lag1'] = data['inflation'].shift(1)\n",
    "\n",
    "# Save the data to an Excel file\n",
    "data.to_excel('data.xlsx')\n"
   ]
  },
  {
   "attachments": {},
   "cell_type": "markdown",
   "metadata": {},
   "source": [
    "### b"
   ]
  },
  {
   "cell_type": "code",
   "execution_count": 5,
   "metadata": {},
   "outputs": [
    {
     "name": "stdout",
     "output_type": "stream",
     "text": [
      "                            OLS Regression Results                            \n",
      "==============================================================================\n",
      "Dep. Variable:                   pi_t   R-squared:                       0.057\n",
      "Model:                            OLS   Adj. R-squared:                  0.049\n",
      "Method:                 Least Squares   F-statistic:                     7.107\n",
      "Date:                Sun, 12 Mar 2023   Prob (F-statistic):            0.00876\n",
      "Time:                        17:38:37   Log-Likelihood:                -457.36\n",
      "No. Observations:                 119   AIC:                             918.7\n",
      "Df Residuals:                     117   BIC:                             924.3\n",
      "Df Model:                           1                                         \n",
      "Covariance Type:            nonrobust                                         \n",
      "==============================================================================\n",
      "                 coef    std err          t      P>|t|      [0.025      0.975]\n",
      "------------------------------------------------------------------------------\n",
      "const          3.1110      1.278      2.435      0.016       0.581       5.641\n",
      "y_t            1.4137      0.530      2.666      0.009       0.363       2.464\n",
      "==============================================================================\n",
      "Omnibus:                       59.189   Durbin-Watson:                   1.173\n",
      "Prob(Omnibus):                  0.000   Jarque-Bera (JB):              221.662\n",
      "Skew:                           1.767   Prob(JB):                     7.36e-49\n",
      "Kurtosis:                       8.676   Cond. No.                         3.14\n",
      "==============================================================================\n",
      "\n",
      "Notes:\n",
      "[1] Standard Errors assume that the covariance matrix of the errors is correctly specified.\n"
     ]
    },
    {
     "name": "stderr",
     "output_type": "stream",
     "text": [
      "/var/folders/m6/wxc9fp790875bb7z5jw_q5c80000gn/T/ipykernel_39825/4225186873.py:8: FutureWarning: The pandas.np module is deprecated and will be removed from pandas in a future version. Import numpy directly instead.\n",
      "  data['y_t'] = 100 * (pd.np.log(data['gdp']) - pd.np.log(data['gdppot']))\n"
     ]
    }
   ],
   "source": [
    "import pandas as pd\n",
    "import statsmodels.api as sm\n",
    "\n",
    "# Load data from Excel file\n",
    "data = pd.read_excel('Q3.xlsx', sheet_name='Sheet1', index_col=0)\n",
    "\n",
    "# Compute the output gap\n",
    "data['y_t'] = 100 * (pd.np.log(data['gdp']) - pd.np.log(data['gdppot']))\n",
    "\n",
    "# Compute the inflation rate and its first lag\n",
    "data['pi_t'] = data['cpi'].pct_change(periods=1) * 100\n",
    "data['pi_lag1'] = data['pi_t'].shift(1)\n",
    "\n",
    "# Drop missing values\n",
    "data = data.dropna()\n",
    "\n",
    "# Estimate linear regression model\n",
    "X = sm.add_constant(data['y_t'])\n",
    "model = sm.OLS(data['pi_t'], X).fit()\n",
    "\n",
    "# Print regression results\n",
    "print(model.summary())\n",
    "\n",
    "# Compute residuals\n",
    "data['residuals'] = model.resid\n"
   ]
  },
  {
   "cell_type": "code",
   "execution_count": 6,
   "metadata": {},
   "outputs": [
    {
     "data": {
      "image/png": "[encoded data removed]",
      "text/plain": [
       "<Figure size 640x480 with 1 Axes>"
      ]
     },
     "metadata": {},
     "output_type": "display_data"
    }
   ],
   "source": [
    "import matplotlib.pyplot as plt\n",
    "\n",
    "# Plot residuals\n",
    "fig, ax = plt.subplots()\n",
    "ax.plot(data.index, data['residuals'], label='Residuals')\n",
    "ax.legend()\n",
    "plt.show()\n"
   ]
  },
  {
   "attachments": {},
   "cell_type": "markdown",
   "metadata": {},
   "source": [
    "### c"
   ]
  },
  {
   "attachments": {},
   "cell_type": "markdown",
   "metadata": {},
   "source": [
    "### i"
   ]
  },
  {
   "cell_type": "code",
   "execution_count": 7,
   "metadata": {},
   "outputs": [
    {
     "name": "stdout",
     "output_type": "stream",
     "text": [
      "R-squared: 0.21808463842874126\n"
     ]
    }
   ],
   "source": [
    "import statsmodels.api as sm\n",
    "\n",
    "# create lagged residuals\n",
    "resid_lag1 = data['residuals'].shift(1)\n",
    "resid_lag2 = data['residuals'].shift(2)\n",
    "\n",
    "# remove missing values\n",
    "df = pd.concat([data['residuals'], data['output_gap'], resid_lag1, resid_lag2], axis=1)\n",
    "df.dropna(inplace=True)\n",
    "df.columns = ['e', 'y', 'e_lag1', 'e_lag2']\n",
    "\n",
    "# estimate auxiliary regression\n",
    "X = df[['y', 'e_lag1', 'e_lag2']]\n",
    "X = sm.add_constant(X)\n",
    "y = df['e']\n",
    "results = sm.OLS(y, X).fit()\n",
    "r2 = results.rsquared\n",
    "print('R-squared:', r2)\n"
   ]
  },
  {
   "attachments": {},
   "cell_type": "markdown",
   "metadata": {},
   "source": [
    "### ii"
   ]
  },
  {
   "cell_type": "code",
   "execution_count": 8,
   "metadata": {},
   "outputs": [
    {
     "name": "stdout",
     "output_type": "stream",
     "text": [
      "AR(2) test statistic: 25.515902696162726\n",
      "Reject H0: Autocorrelation present\n"
     ]
    }
   ],
   "source": [
    "# compute sample size\n",
    "TA = len(df)\n",
    "\n",
    "# compute test statistic\n",
    "AR2 = TA * r2\n",
    "print('AR(2) test statistic:', AR2)\n",
    "\n",
    "# compare with critical value\n",
    "critical_value = 3.0  # for alpha=0.05 and 2 lags\n",
    "if AR2 > critical_value:\n",
    "    print('Reject H0: Autocorrelation present')\n",
    "else:\n",
    "    print('Cannot reject H0: No autocorrelation')\n"
   ]
  },
  {
   "attachments": {},
   "cell_type": "markdown",
   "metadata": {},
   "source": [
    "# d"
   ]
  },
  {
   "cell_type": "code",
   "execution_count": 9,
   "metadata": {},
   "outputs": [],
   "source": [
    "import pandas as pd\n",
    "import statsmodels.api as sm\n",
    "\n",
    "data = data.dropna()\n",
    "\n",
    "\n",
    "# Read in data from Excel file\n",
    "data = pd.read_excel('data.xlsx', sheet_name='Sheet1', index_col=0)\n",
    "\n",
    "# Create lagged variables for inflation rate\n",
    "data['inflation_lag1'] = data['inflation'].shift(1)\n",
    "\n",
    "# Define dependent and independent variables\n",
    "y = data['inflation']\n",
    "X = data[['inflation_lag1', 'output_gap']]\n",
    "\n",
    "# Add constant to independent variables\n",
    "X = sm.add_constant(X)\n",
    "\n",
    "data = data.dropna()        # remove rows with missing values\n",
    "X = X.replace([np.inf, -np.inf], np.nan).fillna(X.mean())   # replace infinite values with mean of the column"
   ]
  },
  {
   "cell_type": "code",
   "execution_count": 10,
   "metadata": {},
   "outputs": [
    {
     "name": "stdout",
     "output_type": "stream",
     "text": [
      "                            OLS Regression Results                            \n",
      "==============================================================================\n",
      "Dep. Variable:              inflation   R-squared:                         nan\n",
      "Model:                            OLS   Adj. R-squared:                    nan\n",
      "Method:                 Least Squares   F-statistic:                       nan\n",
      "Date:                Sun, 12 Mar 2023   Prob (F-statistic):                nan\n",
      "Time:                        17:38:38   Log-Likelihood:                    nan\n",
      "No. Observations:                 121   AIC:                               nan\n",
      "Df Residuals:                     118   BIC:                               nan\n",
      "Df Model:                           2                                         \n",
      "Covariance Type:            nonrobust                                         \n",
      "==================================================================================\n",
      "                     coef    std err          t      P>|t|      [0.025      0.975]\n",
      "----------------------------------------------------------------------------------\n",
      "const                 nan        nan        nan        nan         nan         nan\n",
      "inflation_lag1        nan        nan        nan        nan         nan         nan\n",
      "output_gap            nan        nan        nan        nan         nan         nan\n",
      "==============================================================================\n",
      "Omnibus:                          nan   Durbin-Watson:                     nan\n",
      "Prob(Omnibus):                    nan   Jarque-Bera (JB):                  nan\n",
      "Skew:                             nan   Prob(JB):                          nan\n",
      "Kurtosis:                         nan   Cond. No.                         14.9\n",
      "==============================================================================\n",
      "\n",
      "Notes:\n",
      "[1] Standard Errors assume that the covariance matrix of the errors is correctly specified.\n"
     ]
    }
   ],
   "source": [
    "results = sm.OLS(y, X).fit()\n",
    "print(results.summary())"
   ]
  },
  {
   "cell_type": "code",
   "execution_count": 11,
   "metadata": {},
   "outputs": [],
   "source": [
    "# Run the hypothesis test on β_2\n",
    "#r = [0, 1, 0]  # Null hypothesis: β_2 = 0\n",
    "#F_test = results.f_test(r)\n",
    "#print('F-statistic:', F_test.fvalue)\n",
    "#print('p-value:', F_test.pvalue)"
   ]
  },
  {
   "attachments": {},
   "cell_type": "markdown",
   "metadata": {},
   "source": [
    "ii"
   ]
  },
  {
   "cell_type": "code",
   "execution_count": 13,
   "metadata": {},
   "outputs": [],
   "source": [
    "#covariance = np.cov(y[1:], pi[:-1])[0, 1]\n",
    "#print('Sample covariance between y_t and π_(t-1):', covariance)"
   ]
  }
 ],
 "metadata": {
  "kernelspec": {
   "display_name": "base",
   "language": "python",
   "name": "python3"
  },
  "language_info": {
   "codemirror_mode": {
    "name": "ipython",
    "version": 3
   },
   "file_extension": ".py",
   "mimetype": "text/x-python",
   "name": "python",
   "nbconvert_exporter": "python",
   "pygments_lexer": "ipython3",
   "version": "3.9.13"
  },
  "orig_nbformat": 4
 },
 "nbformat": 4,
 "nbformat_minor": 2
}
